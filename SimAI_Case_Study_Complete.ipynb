{
 "cells": [
  {
   "cell_type": "markdown",
   "id": "b1d95ef0",
   "metadata": {},
   "source": [
    "# 🧠 SimAI Case Study – Product Specialist\n",
    "\n",
    "This notebook covers the complete solution to the take-home assignment for the SimAI platform.\n",
    "\n",
    "We address the following problems:\n",
    "1. 3D data visualization\n",
    "2. Projection of simulation values from volume to surface\n",
    "3. Computation of aerodynamic drag\n",
    "4. Supporting code and visual outputs for discussion"
   ]
  },
  {
   "cell_type": "markdown",
   "id": "091665ae",
   "metadata": {},
   "source": [
    "## 🎯 Goals\n",
    "- Help a user visualize 3D simulation data.\n",
    "- Project physical simulation values from the volume mesh to the surface mesh.\n",
    "- Compute drag using projected fields.\n",
    "- Present clear code and visualizations.\n",
    "\n",
    "We use the `pyvista` library for mesh manipulation and plotting."
   ]
  },
  {
   "cell_type": "markdown",
   "id": "61edc6bd",
   "metadata": {},
   "source": [
    "## 📦 Imports and Setup"
   ]
  },
  {
   "cell_type": "code",
   "execution_count": null,
   "id": "7dc304c6",
   "metadata": {},
   "outputs": [],
   "source": [
    "import pyvista as pv\n",
    "import numpy as np\n",
    "import os\n",
    "\n",
    "# Ensure plots are rendered inline\n",
    "pv.set_jupyter_backend('pythreejs')  # You can use 'panel' or 'static' as fallback\n",
    "\n",
    "# Set data directory\n",
    "DATA_DIR = os.path.join('src', 'data')"
   ]
  },
  {
   "cell_type": "markdown",
   "id": "116e2be6",
   "metadata": {},
   "source": [
    "## 📁 Load Geometry and Simulation Files\n",
    "We begin by loading the surface and volume files for both the car and the spoiler. These are provided in `.vtp` (surface) and `.vtp`/`.vtu` (volume) formats."
   ]
  },
  {
   "cell_type": "code",
   "execution_count": null,
   "id": "0b81d12d",
   "metadata": {},
   "outputs": [],
   "source": [
    "# Car geometry\n",
    "surface_car = pv.read(os.path.join(DATA_DIR, 'surface_car.vtp'))\n",
    "volume_car = pv.read(os.path.join(DATA_DIR, 'volume_car.vtp'))\n",
    "\n",
    "# Spoiler geometry\n",
    "surface_spoiler = pv.read(os.path.join(DATA_DIR, 'surface_spoiler.vtp'))\n",
    "volume_spoiler = pv.read(os.path.join(DATA_DIR, 'volume_spoiler.vtu'))"
   ]
  },
  {
   "cell_type": "markdown",
   "id": "f2c40208",
   "metadata": {},
   "source": [
    "## 🔍 Visualize the 3D Meshes"
   ]
  },
  {
   "cell_type": "markdown",
   "id": "ac07d865",
   "metadata": {},
   "source": [
    "We use PyVista's interactive 3D plotting to inspect the geometries. Below, we plot the surface of the car and the volume of the spoiler (colored by `pressure`)."
   ]
  },
  {
   "cell_type": "code",
   "execution_count": null,
   "id": "f37b7b33",
   "metadata": {},
   "outputs": [],
   "source": [
    "# Visualize surface of the car\n",
    "surface_car.plot(title='Car Surface Mesh', show_edges=True)"
   ]
  },
  {
   "cell_type": "code",
   "execution_count": null,
   "id": "070cc9af",
   "metadata": {},
   "outputs": [],
   "source": [
    "# Visualize pressure field on spoiler volume\n",
    "volume_spoiler.plot(scalars='pressure', cmap='coolwarm', title='Spoiler Volume – Pressure Field')"
   ]
  },
  {
   "cell_type": "markdown",
   "id": "1d1a5674",
   "metadata": {},
   "source": [
    "## 📌 Project Volume Values onto the Surface\n",
    "The surface mesh lacks the necessary `pressure` and `wall_shear` values to compute drag. These values are available in the volume mesh.\n",
    "\n",
    "We use nearest-neighbor interpolation with `sample()` to project these fields onto the surface nodes."
   ]
  },
  {
   "cell_type": "code",
   "execution_count": null,
   "id": "423f7988",
   "metadata": {},
   "outputs": [],
   "source": [
    "# Inspect available fields in volume\n",
    "print('Volume scalar fields:', volume_car.array_names)\n",
    "\n",
    "# Project fields to surface\n",
    "interpolated_surface = surface_car.sample(volume_car)"
   ]
  },
  {
   "cell_type": "markdown",
   "id": "147849bf",
   "metadata": {},
   "source": [
    "### 💾 Save Surface with Projected Data"
   ]
  },
  {
   "cell_type": "code",
   "execution_count": null,
   "id": "d2d00a49",
   "metadata": {},
   "outputs": [],
   "source": [
    "# Save the new surface with added fields\n",
    "output_path = os.path.join(DATA_DIR, 'surface_car_with_vars.vtp')\n",
    "interpolated_surface.save(output_path)\n",
    "print(f\"Saved new surface with projected data to {output_path}\")"
   ]
  },
  {
   "cell_type": "markdown",
   "id": "802d8d60",
   "metadata": {},
   "source": [
    "### 🎨 Visualize Projected Pressure"
   ]
  },
  {
   "cell_type": "code",
   "execution_count": null,
   "id": "b7d8d639",
   "metadata": {},
   "outputs": [],
   "source": [
    "interpolated_surface.plot(scalars='pressure', cmap='coolwarm', title='Projected Pressure Field on Car Surface')"
   ]
  },
  {
   "cell_type": "markdown",
   "id": "f6443521",
   "metadata": {},
   "source": [
    "## 🧮 Compute Estimated Drag\n",
    "Drag is defined as:\n",
    "\\[ \\text{Drag} = \\int_{S} (\\text{pressure} + \\text{wall\\_shear}) \\, dS \\]\n",
    "\n",
    "To approximate this, we:\n",
    "- Sum the `pressure + wall_shear` across all surface nodes.\n",
    "- Note: In a full CFD post-processing, you'd integrate over surface area, but we simplify here."
   ]
  },
  {
   "cell_type": "code",
   "execution_count": null,
   "id": "34cb0332",
   "metadata": {},
   "outputs": [],
   "source": [
    "# Ensure wall_shear is present (or fill with zeros)\n",
    "pressure = interpolated_surface['pressure']\n",
    "wall_shear = (interpolated_surface['wall_shear']\n",
    "              if 'wall_shear' in interpolated_surface.array_names else np.zeros_like(pressure))\n",
    "\n",
    "drag_estimate = np.sum(pressure + wall_shear)\n",
    "print(f\"Estimated drag (summed field values): {drag_estimate:.4f}\")"
   ]
  },
  {
   "cell_type": "markdown",
   "id": "41001094",
   "metadata": {},
   "source": [
    "## ✅ Conclusion\n",
    "- We successfully visualized and inspected 3D geometry.\n",
    "- We projected pressure and wall shear from the volume to the surface.\n",
    "- We estimated aerodynamic drag using the projected fields.\n",
    "\n",
    "This notebook can be used to help the user of SimAI understand how to preprocess data and interpret physical results using Python and PyVista."
   ]
  }
 ],
 "metadata": {},
 "nbformat": 4,
 "nbformat_minor": 5
}